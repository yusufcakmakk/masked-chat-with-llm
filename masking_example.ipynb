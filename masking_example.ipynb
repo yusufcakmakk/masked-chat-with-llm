{
  "cells": [
    {
      "cell_type": "markdown",
      "metadata": {},
      "source": [
        "# Developing a chatbot using own documents with masking methods"
      ]
    },
    {
      "cell_type": "code",
      "execution_count": 1,
      "metadata": {},
      "outputs": [],
      "source": [
        "# pip install langchain faiss-cpu sentence-transformers"
      ]
    },
    {
      "cell_type": "markdown",
      "metadata": {
        "id": "kngfWq2LHeBo"
      },
      "source": [
        "## Problem Statement\n",
        "\n",
        "##### We want to mask some fields while using LLMs like OpenAI, PaLM, Cloude etc.\n",
        "##### When developing chatbot applications, confidential information is crucial for customer privacy. So if you want to use cloud-based LLMs like GPT4 (OpenAI), you need to find a solution for keeping those fields before sending them to the LLM provider."
      ]
    },
    {
      "cell_type": "markdown",
      "metadata": {},
      "source": [
        "#### We will use regular expressions to implement this idea for fields like phone number, email, credit card number, etc.\n",
        "#### There are 4 steps to solve the problem\n",
        "1. Read documents and split them into little chunks (LangChain - Document loaders)\n",
        "1. Get embeddings of the chunks (Sentence transformers)\n",
        "1. Create vector store to search relevant documents (LangChain - FAISS)\n",
        "1. Generate response with LLMs. (LangChain - LLM chain)"
      ]
    },
    {
      "cell_type": "markdown",
      "metadata": {},
      "source": [
        "### Import libs"
      ]
    },
    {
      "cell_type": "code",
      "execution_count": 2,
      "metadata": {
        "id": "9iD0UWIvT1CA"
      },
      "outputs": [],
      "source": [
        "import os\n",
        "import openai\n",
        "from langchain.prompts import (\n",
        "    ChatPromptTemplate, \n",
        "    MessagesPlaceholder, \n",
        "    SystemMessagePromptTemplate, \n",
        "    HumanMessagePromptTemplate\n",
        ")\n",
        "from langchain.text_splitter import RecursiveCharacterTextSplitter\n",
        "from langchain.embeddings import SentenceTransformerEmbeddings\n",
        "from langchain.schema import Document\n",
        "from langchain.vectorstores import FAISS\n",
        "from langchain.chains import ConversationChain, LLMChain\n",
        "from langchain.chat_models import ChatOpenAI, AzureChatOpenAI\n",
        "from langchain.memory import ConversationBufferMemory\n",
        "from langchain.memory import ConversationBufferWindowMemory\n",
        "from langchain.embeddings.openai import OpenAIEmbeddings\n",
        "from langchain.chains.question_answering import load_qa_chain\n",
        "from langchain.chains import RetrievalQA\n",
        "from langchain.callbacks import get_openai_callback\n",
        "import re\n",
        "\n",
        "os.environ[\"OPENAI_API_KEY\"] = \"sk-...\"\n",
        "\n"
      ]
    },
    {
      "cell_type": "markdown",
      "metadata": {},
      "source": [
        "### Lets build masking functions\n",
        "#### First, we use regex to find specific fields in text. To implement masking logic, we will focus on 4 entities:\n",
        "1. email\n",
        "1. url\n",
        "1. phone number\n",
        "1. credit card number\n",
        "\n",
        "Use can use other methods to improve this logic. For example, you can use named entity recognition to find names or locations."
      ]
    },
    {
      "cell_type": "code",
      "execution_count": 4,
      "metadata": {},
      "outputs": [],
      "source": [
        "def mask_entities(text, regex, mask_template, **kwargs):\n",
        "    entity_regex_result = re.findall(regex, text)\n",
        "    entity_mask_map = {}\n",
        "    prefix = kwargs.get(\"prefix\", \"\")\n",
        "    for i, entity in enumerate(entity_regex_result):\n",
        "        if entity not in entity_mask_map:\n",
        "            mask_key = f\"[{mask_template}_{prefix}_{i}]\"\n",
        "            entity_mask_map[entity] = mask_key\n",
        "            text = text.replace(entity, mask_key)\n",
        "    return text, entity_mask_map\n",
        "\n",
        "def pre_masking(text, entity_data, **kwargs):\n",
        "    text = text.replace(\"İ\", \"i\").lower()\n",
        "    masked_entities = {}\n",
        "    prefix = kwargs.get(\"prefix\", \"\")\n",
        "    for entity_name, entity_regex, mask_template in entity_data:\n",
        "        text, entity_mask_map = mask_entities(text, entity_regex, mask_template, prefix=prefix)\n",
        "        masked_entities[entity_name] = entity_mask_map\n",
        "    return text, masked_entities\n",
        "\n",
        "def post_masking(text, masked_entities):\n",
        "    for entity_map in masked_entities.values():\n",
        "        for entity, mask in entity_map.items():\n",
        "            text = text.replace(mask, entity)\n",
        "    return text\n",
        "\n",
        "# Define entity data: (name, regex, mask_template)\n",
        "entity_data = [\n",
        "    (\"email\", r'[\\w\\.-]+@[\\w\\.-]+', \"EMAIL_MASK\"),\n",
        "    (\"url\", r'http\\S+', \"URL_MASK\"),\n",
        "    (\"phone_number\", r'\\d{4}\\s\\d{3}\\s\\d{2}\\s\\d{2}|\\d{4}\\s\\d{3}\\s\\d{4}|\\d\\s\\d{3}\\s\\d{3}\\s\\d\\s\\d{3}|\\d\\s\\d{3}\\s\\d{3}\\s\\d{2}\\s\\d{2}', \"PHONE_NUMBER_MASK\"),\n",
        "    (\"credit_card\", r'\\d{4}\\s\\d{4}\\s\\d{4}\\s\\d{4}', \"CREDIT_CARD_MASK\"), # 1234 1234 1234 1234 it can updated\n",
        "]\n"
      ]
    },
    {
      "cell_type": "markdown",
      "metadata": {},
      "source": [
        "### Test our functions with example data"
      ]
    },
    {
      "cell_type": "code",
      "execution_count": 5,
      "metadata": {},
      "outputs": [
        {
          "name": "stdout",
          "output_type": "stream",
          "text": [
            "Please 1234 1234 1234 1234 contact abc@abc.com or visit http://www.google.com\n",
            "**************************************************\n",
            "please [CREDIT_CARD_MASK_test_0] contact [EMAIL_MASK_test_0] or visit [URL_MASK_test_0]\n",
            "**************************************************\n",
            "{'email': {'abc@abc.com': '[EMAIL_MASK_test_0]'}, 'url': {'http://www.google.com': '[URL_MASK_test_0]'}, 'phone_number': {}, 'credit_card': {'1234 1234 1234 1234': '[CREDIT_CARD_MASK_test_0]'}}\n",
            "**************************************************\n",
            "please 1234 1234 1234 1234 contact abc@abc.com or visit http://www.google.com\n"
          ]
        }
      ],
      "source": [
        "# Example usage:\n",
        "input_text = \"Please 1234 1234 1234 1234 contact abc@abc.com or visit http://www.google.com\"\n",
        "print(input_text)\n",
        "print(\"*\"*50)\n",
        "masked_text, masked_entities = pre_masking(input_text, entity_data, prefix=\"test\")\n",
        "print(masked_text)\n",
        "print(\"*\"*50)\n",
        "print(masked_entities)\n",
        "print(\"*\"*50)\n",
        "\n",
        "# Process the masked text...\n",
        "final_text = post_masking(masked_text, masked_entities)\n",
        "print(final_text)"
      ]
    },
    {
      "cell_type": "code",
      "execution_count": 6,
      "metadata": {},
      "outputs": [
        {
          "name": "stdout",
          "output_type": "stream",
          "text": [
            "Tel: 0 212 331 0 200\n",
            "Fax: 0 212 332 18 93\n",
            "Kep Adresi: dsm@hs02.kep.tr\n",
            "Trendyol Sigorta iletişim bilgilerine nasıl ulaşabilirim?\n",
            "Tüm soru ve taleplerin için 0850 955 14 14 numaralı Trendyol Sigorta Müşteri Hizmetleri'ni arayarak destek alabilirsin.\n",
            "Çalışma Saatlerimiz: Pazartesi-Cumartesi 09:00-18:00\n",
            "\n",
            "**************************************************\n",
            "tel: [PHONE_NUMBER_MASK_test_0]\n",
            "fax: [PHONE_NUMBER_MASK_test_1]\n",
            "kep adresi: [EMAIL_MASK_test_0]\n",
            "trendyol sigorta iletişim bilgilerine nasıl ulaşabilirim?\n",
            "tüm soru ve taleplerin için [PHONE_NUMBER_MASK_test_2] numaralı trendyol sigorta müşteri hizmetleri'ni arayarak destek alabilirsin.\n",
            "çalışma saatlerimiz: pazartesi-cumartesi 09:00-18:00\n",
            "\n",
            "**************************************************\n",
            "{'email': {'dsm@hs02.kep.tr': '[EMAIL_MASK_test_0]'}, 'url': {}, 'phone_number': {'0 212 331 0 200': '[PHONE_NUMBER_MASK_test_0]', '0 212 332 18 93': '[PHONE_NUMBER_MASK_test_1]', '0850 955 14 14': '[PHONE_NUMBER_MASK_test_2]'}, 'credit_card': {}}\n",
            "**************************************************\n",
            "tel: 0 212 331 0 200\n",
            "fax: 0 212 332 18 93\n",
            "kep adresi: dsm@hs02.kep.tr\n",
            "trendyol sigorta iletişim bilgilerine nasıl ulaşabilirim?\n",
            "tüm soru ve taleplerin için 0850 955 14 14 numaralı trendyol sigorta müşteri hizmetleri'ni arayarak destek alabilirsin.\n",
            "çalışma saatlerimiz: pazartesi-cumartesi 09:00-18:00\n",
            "\n"
          ]
        }
      ],
      "source": [
        "# Example usage:\n",
        "input_text = \"\"\"Tel: 0 212 331 0 200\n",
        "Fax: 0 212 332 18 93\n",
        "Kep Adresi: dsm@hs02.kep.tr\n",
        "Trendyol Sigorta iletişim bilgilerine nasıl ulaşabilirim?\n",
        "Tüm soru ve taleplerin için 0850 955 14 14 numaralı Trendyol Sigorta Müşteri Hizmetleri'ni arayarak destek alabilirsin.\n",
        "Çalışma Saatlerimiz: Pazartesi-Cumartesi 09:00-18:00\n",
        "\"\"\"\n",
        "print(input_text)\n",
        "print(\"*\"*50)\n",
        "masked_text, masked_entities = pre_masking(input_text, entity_data, prefix=\"test\")\n",
        "print(masked_text)\n",
        "print(\"*\"*50)\n",
        "print(masked_entities)\n",
        "print(\"*\"*50)\n",
        "\n",
        "# Process the masked text...\n",
        "final_text = post_masking(masked_text, masked_entities)\n",
        "print(final_text)"
      ]
    },
    {
      "cell_type": "markdown",
      "metadata": {},
      "source": [
        "### Load document and split"
      ]
    },
    {
      "cell_type": "code",
      "execution_count": null,
      "metadata": {},
      "outputs": [
        {
          "data": {
            "text/plain": [
              "['Ücret iadem ne zaman yapılır?',\n",
              " '1. İptal ettiğiniz ürünün ücret iadesi bankanıza bağlı olarak değişkenlik gösterebilir. Bu süre yaklaşık 1 haftayı bulabilir.',\n",
              " '',\n",
              " '2. İade ettiğiniz ürünün ücret iade süreci aşağıdaki gibidir;',\n",
              " '']"
            ]
          },
          "metadata": {},
          "output_type": "display_data"
        }
      ],
      "source": [
        "# load document\n",
        "with open('./trendyol-faq-sample.txt') as f:\n",
        "    faq_sample = f.read()\n",
        "faq_sample.splitlines()[:5]"
      ]
    },
    {
      "cell_type": "code",
      "execution_count": 7,
      "metadata": {},
      "outputs": [],
      "source": [
        "# init text splitter for creating chunks\n",
        "text_splitter = RecursiveCharacterTextSplitter(\n",
        "    # Set a really small chunk size, just to show.\n",
        "    chunk_size = 200,\n",
        "    chunk_overlap  = 30,\n",
        "    length_function = len,\n",
        "    add_start_index = True,\n",
        ")"
      ]
    },
    {
      "cell_type": "code",
      "execution_count": 8,
      "metadata": {},
      "outputs": [
        {
          "name": "stdout",
          "output_type": "stream",
          "text": [
            "page_content='Ücret iadem ne zaman yapılır?\\n1. İptal ettiğiniz ürünün ücret iadesi bankanıza bağlı olarak değişkenlik gösterebilir. Bu süre yaklaşık 1 haftayı bulabilir.' metadata={'start_index': 0}\n",
            "page_content='2. İade ettiğiniz ürünün ücret iade süreci aşağıdaki gibidir;\\n\\n• Ürün satıcıya ulaştıktan sonra en geç 48 saat içerisinde iade şartlarına uygunluğu kontrol edilir.' metadata={'start_index': 157}\n"
          ]
        }
      ],
      "source": [
        "# create documents (chunks)\n",
        "text_documents = text_splitter.create_documents([faq_sample])\n",
        "print(text_documents[0])\n",
        "print(text_documents[1])"
      ]
    },
    {
      "cell_type": "markdown",
      "metadata": {},
      "source": [
        "### Load embedding model and embed documents"
      ]
    },
    {
      "cell_type": "code",
      "execution_count": 9,
      "metadata": {},
      "outputs": [
        {
          "name": "stderr",
          "output_type": "stream",
          "text": [
            "/opt/homebrew/Caskroom/miniforge/base/envs/pl_test/lib/python3.9/site-packages/tqdm/auto.py:22: TqdmWarning: IProgress not found. Please update jupyter and ipywidgets. See https://ipywidgets.readthedocs.io/en/stable/user_install.html\n",
            "  from .autonotebook import tqdm as notebook_tqdm\n"
          ]
        }
      ],
      "source": [
        "sentence_transformer_model = \"paraphrase-multilingual-MiniLM-L12-v2\"\n",
        "embedding_model = SentenceTransformerEmbeddings(model_name=sentence_transformer_model)"
      ]
    },
    {
      "cell_type": "code",
      "execution_count": 10,
      "metadata": {},
      "outputs": [],
      "source": [
        "texts = [d.page_content for d in text_documents]\n",
        "metadatas_fields = [d.metadata for d in text_documents]\n",
        "text_embeddings = embedding_model.embed_documents(texts) # embed all documents"
      ]
    },
    {
      "cell_type": "code",
      "execution_count": 11,
      "metadata": {},
      "outputs": [
        {
          "data": {
            "text/plain": [
              "(138, 138, 138)"
            ]
          },
          "execution_count": 11,
          "metadata": {},
          "output_type": "execute_result"
        }
      ],
      "source": [
        "len(text_embeddings), len(texts), len(metadatas_fields)"
      ]
    },
    {
      "cell_type": "code",
      "execution_count": 12,
      "metadata": {},
      "outputs": [],
      "source": [
        "text_embedding_pairs = list(zip(texts, text_embeddings)) # create pairs for indexing"
      ]
    },
    {
      "cell_type": "markdown",
      "metadata": {},
      "source": [
        "### Create vector store with FAISS backend"
      ]
    },
    {
      "cell_type": "code",
      "execution_count": 13,
      "metadata": {},
      "outputs": [],
      "source": [
        "db = FAISS.from_embeddings(text_embedding_pairs, embedding_model, metadatas=metadatas_fields)"
      ]
    },
    {
      "cell_type": "markdown",
      "metadata": {},
      "source": [
        "#### Check similar documents with exampe query"
      ]
    },
    {
      "cell_type": "code",
      "execution_count": 14,
      "metadata": {},
      "outputs": [
        {
          "data": {
            "text/plain": [
              "[(Document(page_content=\"Şikayetinle ilgili destek almak ve deneyimine dair görüşlerini paylaşmak için 0850 955 14 14 numaralı Trendyol Sigorta Müşteri Hizmetleri'ni arayarak bize ulaşabilirsin. Süreçlerimizi geliştirirken\", metadata={'start_index': 17905}),\n",
              "  10.569565),\n",
              " (Document(page_content='Trendyol Sigorta nasıl kullanılır?\\n1) Sigorta ürünlerimizi Trendyol uygulamasından kolayca satın alabilirsin:', metadata={'start_index': 16845}),\n",
              "  10.714605),\n",
              " (Document(page_content=\"- Trendyol'dan bir ürün satın alırken ürün detay sayfasında Ek Hizmetler başlığı altında sigorta tekliflerimizi inceleyebilirsin. Sepetine sigortalamak istediğin ürünle birlikte sigortayı da ekleyip\", metadata={'start_index': 16955}),\n",
              "  11.297446)]"
            ]
          },
          "execution_count": 14,
          "metadata": {},
          "output_type": "execute_result"
        }
      ],
      "source": [
        "query = \"trendyol sigorta müşteri hizmetleri\"\n",
        "docs = db.similarity_search_with_score(query, k=3)\n",
        "docs"
      ]
    },
    {
      "cell_type": "code",
      "execution_count": 15,
      "metadata": {},
      "outputs": [],
      "source": [
        "db.save_local(\"faiss_index\") # persist index to disk"
      ]
    },
    {
      "cell_type": "markdown",
      "metadata": {},
      "source": [
        "### Create retreiver to find relevant documents"
      ]
    },
    {
      "cell_type": "code",
      "execution_count": 16,
      "metadata": {},
      "outputs": [
        {
          "data": {
            "text/plain": [
              "[Document(page_content=\"Şikayetinle ilgili destek almak ve deneyimine dair görüşlerini paylaşmak için 0850 955 14 14 numaralı Trendyol Sigorta Müşteri Hizmetleri'ni arayarak bize ulaşabilirsin. Süreçlerimizi geliştirirken\", metadata={'start_index': 17905}),\n",
              " Document(page_content='Trendyol Sigorta nasıl kullanılır?\\n1) Sigorta ürünlerimizi Trendyol uygulamasından kolayca satın alabilirsin:', metadata={'start_index': 16845}),\n",
              " Document(page_content=\"- Trendyol'dan bir ürün satın alırken ürün detay sayfasında Ek Hizmetler başlığı altında sigorta tekliflerimizi inceleyebilirsin. Sepetine sigortalamak istediğin ürünle birlikte sigortayı da ekleyip\", metadata={'start_index': 16955})]"
            ]
          },
          "execution_count": 16,
          "metadata": {},
          "output_type": "execute_result"
        }
      ],
      "source": [
        "retriever = db.as_retriever(search_kwargs={\"k\": 3})\n",
        "docs = retriever.get_relevant_documents(query)\n",
        "docs"
      ]
    },
    {
      "cell_type": "markdown",
      "metadata": {},
      "source": [
        "### Define system prompt"
      ]
    },
    {
      "cell_type": "code",
      "execution_count": 17,
      "metadata": {},
      "outputs": [],
      "source": [
        "SYSTEM_PROMPT = \"\"\"Bir eticaret firması için geliştirilmiş yardımcı ve nazik bir chatbotsun. \n",
        "'''RELEVANT_DOCS''' içerisindeki ifadelerin bazıları maskelenmiş olabilir. Cevap verirken bu alanları olduğu gibi bırak ve değişiklik yapma. Eğer maskelenmiş alan yoksa NONE değerini alır. Maskelenmiş alanlar şunlardan oluşuyor:\n",
        "{masked_fields}\n",
        "\n",
        "Cevap verirken yorum yapma ve sadece '''RELEVANT_DOCS''' içerisinde yer alan değerlere göre cevap ver. Verilen bilgilere göre cevaplayamadığın bir konuysa sadece '''UNK''' değeri ile cevap ver.\n",
        "'''UNK''': 'Cevabı henüz bilmiyorum. Sana başka nasıl yardımcı olabilirim?'\n",
        "\n",
        "'''RELEVANT_DOCS''':\n",
        "{relevant_docs}\n",
        "\n",
        "\"\"\""
      ]
    },
    {
      "cell_type": "markdown",
      "metadata": {},
      "source": [
        "### Create prompt templates\n",
        "\n",
        "Prompt templates are pre-defined recipes for generating prompts for language models.\n",
        "\n",
        "A template may include instructions, few-shot examples, and specific context and questions appropriate for a given task.\n",
        "\n",
        "LangChain provides tooling to create and work with prompt templates.\n",
        "\n",
        "LangChain strives to create model agnostic templates to make it easy to reuse existing templates across different language models.\n",
        "[For more info](https://python.langchain.com/docs/modules/model_io/prompts/prompt_templates/)"
      ]
    },
    {
      "cell_type": "code",
      "execution_count": 18,
      "metadata": {},
      "outputs": [],
      "source": [
        "prompt = ChatPromptTemplate.from_messages([\n",
        "        SystemMessagePromptTemplate.from_template(SYSTEM_PROMPT, input_variables=[\"relevant_docs\", \"masked_fields\"]),\n",
        "        MessagesPlaceholder(variable_name=\"history\"),\n",
        "        HumanMessagePromptTemplate.from_template(\"User message: {query}\", input_variables=[\"query\"])\n",
        "    ])"
      ]
    },
    {
      "cell_type": "markdown",
      "metadata": {},
      "source": [
        "### Define LLM\n",
        "We will use OpenAI gpt3.5-turbo"
      ]
    },
    {
      "cell_type": "code",
      "execution_count": 19,
      "metadata": {},
      "outputs": [],
      "source": [
        "llm = ChatOpenAI(temperature=0, max_retries=2)"
      ]
    },
    {
      "cell_type": "markdown",
      "metadata": {},
      "source": [
        "### Create memory window\n",
        "We will store past message for follow up questions. [For more info](https://python.langchain.com/docs/modules/memory/types/buffer_window)"
      ]
    },
    {
      "cell_type": "code",
      "execution_count": 20,
      "metadata": {},
      "outputs": [],
      "source": [
        "memory = ConversationBufferWindowMemory(memory_key=\"history\", k=2, input_key=\"query\", return_messages=True)"
      ]
    },
    {
      "cell_type": "markdown",
      "metadata": {},
      "source": [
        "### Put all together as llm chain"
      ]
    },
    {
      "cell_type": "code",
      "execution_count": 21,
      "metadata": {},
      "outputs": [],
      "source": [
        "llm_chain = LLMChain(\n",
        "    prompt=prompt,\n",
        "    memory=memory,\n",
        "    llm=llm,\n",
        "    verbose=True,\n",
        ")"
      ]
    },
    {
      "cell_type": "markdown",
      "metadata": {},
      "source": [
        "### Create chat function to apply all logic"
      ]
    },
    {
      "cell_type": "code",
      "execution_count": 22,
      "metadata": {},
      "outputs": [],
      "source": [
        "def chat(user_message):\n",
        "    docs = retriever.get_relevant_documents(user_message) # get relevant documents\n",
        "    page_metadata = [doc.metadata for doc in docs] # get metadata of documents\n",
        "\n",
        "    masked_keys = set()\n",
        "    relevant_docs = \"\\n\".join([doc.page_content for doc in docs]) # join documents\n",
        "    masked_content, masked_fields = pre_masking(relevant_docs, entity_data) # mask entities\n",
        "\n",
        "    # get unique masked keys for prompt\n",
        "    for field_key, field_val in masked_fields.items():\n",
        "        masked_keys.update(field_val.values())   \n",
        "\n",
        "    result = {}\n",
        "    with get_openai_callback() as cb:\n",
        "        # predict\n",
        "        result[\"gpt_raw_response\"] = llm_chain.predict(query=user_message, \n",
        "                                                relevant_docs=masked_content, \n",
        "                                                masked_fields=\"\\n\".join(list(masked_keys)))\n",
        "        # postprocess\n",
        "        result[\"parsed_response\"] = post_masking(result[\"gpt_raw_response\"], masked_fields)\n",
        "\n",
        "        # get callback info\n",
        "        result[\"total_tokens\"] = cb.total_tokens\n",
        "        result[\"prompt_tokens\"] = cb.prompt_tokens\n",
        "        result[\"completion_tokens\"] = cb.completion_tokens\n",
        "        result[\"total_cost\"] = cb.total_cost\n",
        "        result[\"page_metadata\"] = page_metadata\n",
        "\n",
        "    return result"
      ]
    },
    {
      "cell_type": "markdown",
      "metadata": {},
      "source": [
        "### Chat with our documents"
      ]
    },
    {
      "cell_type": "code",
      "execution_count": 23,
      "metadata": {},
      "outputs": [
        {
          "name": "stdout",
          "output_type": "stream",
          "text": [
            "\n",
            "\n",
            "\u001b[1m> Entering new LLMChain chain...\u001b[0m\n",
            "Prompt after formatting:\n",
            "\u001b[32;1m\u001b[1;3mSystem: Bir eticaret firması için geliştirilmiş yardımcı ve nazik bir chatbotsun. \n",
            "'''RELEVANT_DOCS''' içerisindeki ifadelerin bazıları maskelenmiş olabilir. Cevap verirken bu alanları olduğu gibi bırak ve değişiklik yapma. Eğer maskelenmiş alan yoksa NONE değerini alır. Maskelenmiş alanlar şunlardan oluşuyor:\n",
            "[PHONE_NUMBER_MASK__0]\n",
            "\n",
            "Cevap verirken yorum yapma ve sadece '''RELEVANT_DOCS''' içerisinde yer alan değerlere göre cevap ver. Verilen bilgilere göre cevaplayamadığın bir konuysa sadece '''UNK''' değeri ile cevap ver.\n",
            "'''UNK''': 'Cevabı henüz bilmiyorum. Sana başka nasıl yardımcı olabilirim?'\n",
            "\n",
            "'''RELEVANT_DOCS''':\n",
            "3) tüm soruların için ve sigortaladığın ürünün hasarlanması durumunda [PHONE_NUMBER_MASK__0] numaralı trendyol sigorta müşteri hizmetleri'ne ulaşabilirsin.\n",
            "trendyol sigorta iletişim bilgilerine nasıl ulaşabilirim?\n",
            "tüm soru ve taleplerin için [PHONE_NUMBER_MASK__0] numaralı trendyol sigorta müşteri hizmetleri'ni arayarak destek alabilirsin.\n",
            "şikayetinle ilgili destek almak ve deneyimine dair görüşlerini paylaşmak için [PHONE_NUMBER_MASK__0] numaralı trendyol sigorta müşteri hizmetleri'ni arayarak bize ulaşabilirsin. süreçlerimizi geliştirirken\n",
            "\n",
            "\n",
            "Human: User message: trendyol sigortayla ilgili sorularım için kime ulaşabilirim?\u001b[0m\n",
            "\n",
            "\u001b[1m> Finished chain.\u001b[0m\n"
          ]
        }
      ],
      "source": [
        "response = chat(\"trendyol sigortayla ilgili sorularım için kime ulaşabilirim?\")"
      ]
    },
    {
      "cell_type": "markdown",
      "metadata": {},
      "source": [
        "Lets check gpt response:"
      ]
    },
    {
      "cell_type": "code",
      "execution_count": 24,
      "metadata": {},
      "outputs": [
        {
          "data": {
            "text/plain": [
              "\"tüm soruların için ve sigortaladığın ürünün hasarlanması durumunda [PHONE_NUMBER_MASK__0] numaralı trendyol sigorta müşteri hizmetleri'ne ulaşabilirsin.\""
            ]
          },
          "execution_count": 24,
          "metadata": {},
          "output_type": "execute_result"
        }
      ],
      "source": [
        "response[\"gpt_raw_response\"]"
      ]
    },
    {
      "cell_type": "markdown",
      "metadata": {},
      "source": [
        "After post process:"
      ]
    },
    {
      "cell_type": "code",
      "execution_count": 25,
      "metadata": {},
      "outputs": [
        {
          "data": {
            "text/plain": [
              "\"tüm soruların için ve sigortaladığın ürünün hasarlanması durumunda 0850 955 14 14 numaralı trendyol sigorta müşteri hizmetleri'ne ulaşabilirsin.\""
            ]
          },
          "execution_count": 25,
          "metadata": {},
          "output_type": "execute_result"
        }
      ],
      "source": [
        "response[\"parsed_response\"]"
      ]
    },
    {
      "cell_type": "markdown",
      "metadata": {},
      "source": [
        "Also you can ask follow up questions:"
      ]
    },
    {
      "cell_type": "code",
      "execution_count": 26,
      "metadata": {},
      "outputs": [
        {
          "name": "stdout",
          "output_type": "stream",
          "text": [
            "\n",
            "\n",
            "\u001b[1m> Entering new LLMChain chain...\u001b[0m\n",
            "Prompt after formatting:\n",
            "\u001b[32;1m\u001b[1;3mSystem: Bir eticaret firması için geliştirilmiş yardımcı ve nazik bir chatbotsun. \n",
            "'''RELEVANT_DOCS''' içerisindeki ifadelerin bazıları maskelenmiş olabilir. Cevap verirken bu alanları olduğu gibi bırak ve değişiklik yapma. Eğer maskelenmiş alan yoksa NONE değerini alır. Maskelenmiş alanlar şunlardan oluşuyor:\n",
            "[EMAIL_MASK__0]\n",
            "[PHONE_NUMBER_MASK__0]\n",
            "\n",
            "Cevap verirken yorum yapma ve sadece '''RELEVANT_DOCS''' içerisinde yer alan değerlere göre cevap ver. Verilen bilgilere göre cevaplayamadığın bir konuysa sadece '''UNK''' değeri ile cevap ver.\n",
            "'''UNK''': 'Cevabı henüz bilmiyorum. Sana başka nasıl yardımcı olabilirim?'\n",
            "\n",
            "'''RELEVANT_DOCS''':\n",
            "fax: [PHONE_NUMBER_MASK__0]\n",
            "\n",
            "kep adresi: [EMAIL_MASK__0]\n",
            "3. kargo seçiminizi yapın.\n",
            "\n",
            "4. ekranda çıkan iade kargo kodunu not alın. iade kargo kodunuza siparişlerim sayfasından ve e-posta adresinize gönderilen bilgilendirme mesajından da ulaşabilirsiniz.\n",
            "siparişimin teslimat adresini veya alıcı adını değiştirebilir miyim?\n",
            "• ana sayfada yer alan \"hesabım\" bölümünde bulunan “siparişlerim“ sekmesinden siparişinizin durumunu kontrol edin.\n",
            "\n",
            "\n",
            "Human: trendyol sigortayla ilgili sorularım için kime ulaşabilirim?\n",
            "AI: tüm soruların için ve sigortaladığın ürünün hasarlanması durumunda [PHONE_NUMBER_MASK__0] numaralı trendyol sigorta müşteri hizmetleri'ne ulaşabilirsin.\n",
            "Human: User message: bu telefon numarasının haricinde mail adresi var mı?\u001b[0m\n",
            "\n",
            "\u001b[1m> Finished chain.\u001b[0m\n"
          ]
        }
      ],
      "source": [
        "response = chat(\"bu telefon numarasının haricinde mail adresi var mı?\")"
      ]
    },
    {
      "cell_type": "code",
      "execution_count": 27,
      "metadata": {},
      "outputs": [
        {
          "data": {
            "text/plain": [
              "'Evet, trendyol sigorta ile iletişime geçmek için ayrıca [EMAIL_MASK__0] adresini de kullanabilirsin.'"
            ]
          },
          "execution_count": 27,
          "metadata": {},
          "output_type": "execute_result"
        }
      ],
      "source": [
        "response[\"gpt_raw_response\"]"
      ]
    },
    {
      "cell_type": "code",
      "execution_count": 28,
      "metadata": {},
      "outputs": [
        {
          "data": {
            "text/plain": [
              "'Evet, trendyol sigorta ile iletişime geçmek için ayrıca dsm@hs02.kep.tr adresini de kullanabilirsin.'"
            ]
          },
          "execution_count": 28,
          "metadata": {},
          "output_type": "execute_result"
        }
      ],
      "source": [
        "response[\"parsed_response\"]"
      ]
    },
    {
      "cell_type": "code",
      "execution_count": null,
      "metadata": {},
      "outputs": [],
      "source": []
    }
  ],
  "metadata": {
    "colab": {
      "provenance": []
    },
    "kernelspec": {
      "display_name": "Python 3",
      "name": "python3"
    },
    "language_info": {
      "codemirror_mode": {
        "name": "ipython",
        "version": 3
      },
      "file_extension": ".py",
      "mimetype": "text/x-python",
      "name": "python",
      "nbconvert_exporter": "python",
      "pygments_lexer": "ipython3",
      "version": "3.9.7"
    }
  },
  "nbformat": 4,
  "nbformat_minor": 0
}
